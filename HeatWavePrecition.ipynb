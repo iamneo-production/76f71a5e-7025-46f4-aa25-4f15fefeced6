{
 "cells": [
  {
   "cell_type": "code",
   "execution_count": 2,
   "metadata": {},
   "outputs": [],
   "source": [
    "import pandas as pd"
   ]
  },
  {
   "cell_type": "code",
   "execution_count": 3,
   "metadata": {},
   "outputs": [
    {
     "name": "stdout",
     "output_type": "stream",
     "text": [
      "Hello world\n"
     ]
    }
   ],
   "source": [
    "print('Hello world')"
   ]
  },
  {
   "cell_type": "code",
   "execution_count": 4,
   "metadata": {},
   "outputs": [
    {
     "data": {
      "text/html": [
       "<div>\n",
       "<style scoped>\n",
       "    .dataframe tbody tr th:only-of-type {\n",
       "        vertical-align: middle;\n",
       "    }\n",
       "\n",
       "    .dataframe tbody tr th {\n",
       "        vertical-align: top;\n",
       "    }\n",
       "\n",
       "    .dataframe thead th {\n",
       "        text-align: right;\n",
       "    }\n",
       "</style>\n",
       "<table border=\"1\" class=\"dataframe\">\n",
       "  <thead>\n",
       "    <tr style=\"text-align: right;\">\n",
       "      <th></th>\n",
       "      <th>row_id</th>\n",
       "      <th>district</th>\n",
       "      <th>mandal</th>\n",
       "      <th>location</th>\n",
       "      <th>odate</th>\n",
       "      <th>cumm_rainfall</th>\n",
       "      <th>temp_min</th>\n",
       "      <th>temp_max</th>\n",
       "      <th>humidity_min</th>\n",
       "      <th>humidity_max</th>\n",
       "      <th>wind_speed_min</th>\n",
       "      <th>wind_speed_max</th>\n",
       "    </tr>\n",
       "  </thead>\n",
       "  <tbody>\n",
       "    <tr>\n",
       "      <th>0</th>\n",
       "      <td>0</td>\n",
       "      <td>Medchal-Malkajgiri</td>\n",
       "      <td>Uppal</td>\n",
       "      <td>Moulali</td>\n",
       "      <td>01/01/18</td>\n",
       "      <td>0.0</td>\n",
       "      <td>12.1</td>\n",
       "      <td>32.6</td>\n",
       "      <td>23.8</td>\n",
       "      <td>100.0</td>\n",
       "      <td>0.0</td>\n",
       "      <td>6.6</td>\n",
       "    </tr>\n",
       "    <tr>\n",
       "      <th>1</th>\n",
       "      <td>1</td>\n",
       "      <td>Medchal-Malkajgiri</td>\n",
       "      <td>Uppal</td>\n",
       "      <td>Moulali</td>\n",
       "      <td>02/01/18</td>\n",
       "      <td>0.0</td>\n",
       "      <td>11.6</td>\n",
       "      <td>32.6</td>\n",
       "      <td>23.2</td>\n",
       "      <td>100.0</td>\n",
       "      <td>0.0</td>\n",
       "      <td>4.7</td>\n",
       "    </tr>\n",
       "    <tr>\n",
       "      <th>2</th>\n",
       "      <td>2</td>\n",
       "      <td>Medchal-Malkajgiri</td>\n",
       "      <td>Uppal</td>\n",
       "      <td>Moulali</td>\n",
       "      <td>03/01/18</td>\n",
       "      <td>0.0</td>\n",
       "      <td>13.0</td>\n",
       "      <td>33.0</td>\n",
       "      <td>31.5</td>\n",
       "      <td>100.0</td>\n",
       "      <td>0.0</td>\n",
       "      <td>6.3</td>\n",
       "    </tr>\n",
       "    <tr>\n",
       "      <th>3</th>\n",
       "      <td>3</td>\n",
       "      <td>Medchal-Malkajgiri</td>\n",
       "      <td>Uppal</td>\n",
       "      <td>Moulali</td>\n",
       "      <td>04/01/18</td>\n",
       "      <td>0.0</td>\n",
       "      <td>9.7</td>\n",
       "      <td>31.7</td>\n",
       "      <td>27.4</td>\n",
       "      <td>100.0</td>\n",
       "      <td>0.0</td>\n",
       "      <td>5.2</td>\n",
       "    </tr>\n",
       "    <tr>\n",
       "      <th>4</th>\n",
       "      <td>4</td>\n",
       "      <td>Medchal-Malkajgiri</td>\n",
       "      <td>Uppal</td>\n",
       "      <td>Moulali</td>\n",
       "      <td>05/01/18</td>\n",
       "      <td>0.0</td>\n",
       "      <td>8.8</td>\n",
       "      <td>31.0</td>\n",
       "      <td>28.6</td>\n",
       "      <td>100.0</td>\n",
       "      <td>0.0</td>\n",
       "      <td>7.1</td>\n",
       "    </tr>\n",
       "  </tbody>\n",
       "</table>\n",
       "</div>"
      ],
      "text/plain": [
       "   row_id            district mandal  location     odate  cumm_rainfall  \\\n",
       "0       0  Medchal-Malkajgiri  Uppal  Moulali   01/01/18            0.0   \n",
       "1       1  Medchal-Malkajgiri  Uppal  Moulali   02/01/18            0.0   \n",
       "2       2  Medchal-Malkajgiri  Uppal  Moulali   03/01/18            0.0   \n",
       "3       3  Medchal-Malkajgiri  Uppal  Moulali   04/01/18            0.0   \n",
       "4       4  Medchal-Malkajgiri  Uppal  Moulali   05/01/18            0.0   \n",
       "\n",
       "   temp_min  temp_max  humidity_min  humidity_max  wind_speed_min  \\\n",
       "0      12.1      32.6          23.8         100.0             0.0   \n",
       "1      11.6      32.6          23.2         100.0             0.0   \n",
       "2      13.0      33.0          31.5         100.0             0.0   \n",
       "3       9.7      31.7          27.4         100.0             0.0   \n",
       "4       8.8      31.0          28.6         100.0             0.0   \n",
       "\n",
       "   wind_speed_max  \n",
       "0             6.6  \n",
       "1             4.7  \n",
       "2             6.3  \n",
       "3             5.2  \n",
       "4             7.1  "
      ]
     },
     "execution_count": 4,
     "metadata": {},
     "output_type": "execute_result"
    }
   ],
   "source": [
    "df = pd.read_csv('data/2018_daily_complete_weather_data_0.csv')\n",
    "df.head()"
   ]
  },
  {
   "cell_type": "code",
   "execution_count": 6,
   "metadata": {},
   "outputs": [
    {
     "data": {
      "text/plain": [
       "Index(['row_id', 'district', 'mandal', 'location', 'odate', 'cumm_rainfall',\n",
       "       'temp_min', 'temp_max', 'humidity_min', 'humidity_max',\n",
       "       'wind_speed_min', 'wind_speed_max'],\n",
       "      dtype='object')"
      ]
     },
     "execution_count": 6,
     "metadata": {},
     "output_type": "execute_result"
    }
   ],
   "source": [
    "df.columns"
   ]
  },
  {
   "cell_type": "code",
   "execution_count": 8,
   "metadata": {},
   "outputs": [],
   "source": [
    "import numpy as np\n",
    "x = np.array([2,3,4,6])\n",
    "y = np.array([2,4,6,8])\n",
    "y_ = y * 1.229 + 0.143"
   ]
  },
  {
   "cell_type": "code",
   "execution_count": 5,
   "metadata": {},
   "outputs": [
    {
     "data": {
      "text/plain": [
       "dict_keys(['latitude', 'longitude', 'latitude_cloudcover', 'longitude_cloudcover', 'cloud_fraction_0000', 'cloud_cover_0000', 'cloud_fraction_0030', 'cloud_cover_0030', 'cloud_fraction_0100', 'cloud_cover_0100', 'cloud_fraction_0130', 'cloud_cover_0130', 'cloud_fraction_0200', 'cloud_cover_0200', 'cloud_fraction_0230', 'cloud_cover_0230', 'cloud_fraction_0300', 'cloud_cover_0300', 'cloud_fraction_0330', 'cloud_cover_0330', 'cloud_fraction_0400', 'cloud_cover_0400', 'cloud_fraction_0430', 'cloud_cover_0430', 'cloud_fraction_0500', 'cloud_cover_0500', 'cloud_fraction_0530', 'cloud_cover_0530', 'cloud_fraction_0600', 'cloud_cover_0600', 'cloud_fraction_0630', 'cloud_cover_0630', 'cloud_fraction_0700', 'cloud_cover_0700', 'cloud_fraction_0730', 'cloud_cover_0730', 'cloud_fraction_0800', 'cloud_cover_0800', 'cloud_fraction_0830', 'cloud_cover_0830', 'cloud_fraction_0900', 'cloud_cover_0900', 'cloud_fraction_0930', 'cloud_cover_0930', 'cloud_fraction_1000', 'cloud_cover_1000', 'cloud_fraction_1030', 'cloud_cover_1030', 'cloud_fraction_1100', 'cloud_cover_1100', 'cloud_fraction_1130', 'cloud_cover_1130', 'cloud_fraction_1200', 'cloud_cover_1200', 'cloud_fraction_1230', 'cloud_cover_1230', 'cloud_fraction_1300', 'cloud_cover_1300', 'cloud_fraction_1330', 'cloud_cover_1330', 'cloud_fraction_1400', 'cloud_cover_1400', 'cloud_fraction_1430', 'cloud_cover_1430', 'cloud_fraction_1500', 'cloud_cover_1500', 'cloud_fraction_1530', 'cloud_cover_1530', 'cloud_fraction_1600', 'cloud_cover_1600', 'cloud_fraction_1630', 'cloud_cover_1630', 'cloud_fraction_1700', 'cloud_cover_1700', 'cloud_fraction_1730', 'cloud_cover_1730', 'cloud_fraction_1800', 'cloud_cover_1800', 'cloud_fraction_1830', 'cloud_cover_1830', 'cloud_fraction_1900', 'cloud_cover_1900', 'cloud_fraction_1930', 'cloud_cover_1930', 'cloud_fraction_2000', 'cloud_cover_2000', 'cloud_fraction_2030', 'cloud_cover_2030', 'cloud_fraction_2100', 'cloud_cover_2100', 'cloud_fraction_2130', 'cloud_cover_2130', 'cloud_fraction_2200', 'cloud_cover_2200', 'cloud_fraction_2230', 'cloud_cover_2230', 'cloud_fraction_2300', 'cloud_cover_2300', 'cloud_fraction_2330', 'cloud_cover_2330'])"
      ]
     },
     "execution_count": 5,
     "metadata": {},
     "output_type": "execute_result"
    }
   ],
   "source": [
    "from matplotlib import pyplot as plt # import libraries\n",
    "import pandas as pd # import libraries\n",
    "import netCDF4 # import libraries\n",
    "fp='data\\_20180102\\INS3D_L3_CF_25km_Ver01_D20180102.nc' # your file name with the eventual path\n",
    "nc = netCDF4.Dataset(fp) # reading the nc file and creating Dataset\n",
    "# \"\"\" in this dataset each component will be \n",
    "# in the form nt,nz,ny,nx i.e. all the variables will be flipped. \"\"\"\n",
    "nc.variables.keys()\n",
    "\n",
    "# \"\"\" imshow is a 2D plot function\n",
    "# according to what I have said before this will plot the second\n",
    "# iteration of the vertical slize with y = 0, one of the vertical\n",
    "# boundaries of your model. \"\"\"\n",
    "# plt.show() # this shows the plot"
   ]
  },
  {
   "cell_type": "code",
   "execution_count": 6,
   "metadata": {},
   "outputs": [
    {
     "data": {
      "text/plain": [
       "masked_array(data=[-10.  ,  -9.75,  -9.5 ,  -9.25,  -9.  ,  -8.75,  -8.5 ,\n",
       "                    -8.25,  -8.  ,  -7.75,  -7.5 ,  -7.25,  -7.  ,  -6.75,\n",
       "                    -6.5 ,  -6.25,  -6.  ,  -5.75,  -5.5 ,  -5.25,  -5.  ,\n",
       "                    -4.75,  -4.5 ,  -4.25,  -4.  ,  -3.75,  -3.5 ,  -3.25,\n",
       "                    -3.  ,  -2.75,  -2.5 ,  -2.25,  -2.  ,  -1.75,  -1.5 ,\n",
       "                    -1.25,  -1.  ,  -0.75,  -0.5 ,  -0.25,   0.  ,   0.25,\n",
       "                     0.5 ,   0.75,   1.  ,   1.25,   1.5 ,   1.75,   2.  ,\n",
       "                     2.25,   2.5 ,   2.75,   3.  ,   3.25,   3.5 ,   3.75,\n",
       "                     4.  ,   4.25,   4.5 ,   4.75,   5.  ,   5.25,   5.5 ,\n",
       "                     5.75,   6.  ,   6.25,   6.5 ,   6.75,   7.  ,   7.25,\n",
       "                     7.5 ,   7.75,   8.  ,   8.25,   8.5 ,   8.75,   9.  ,\n",
       "                     9.25,   9.5 ,   9.75,  10.  ,  10.25,  10.5 ,  10.75,\n",
       "                    11.  ,  11.25,  11.5 ,  11.75,  12.  ,  12.25,  12.5 ,\n",
       "                    12.75,  13.  ,  13.25,  13.5 ,  13.75,  14.  ,  14.25,\n",
       "                    14.5 ,  14.75,  15.  ,  15.25,  15.5 ,  15.75,  16.  ,\n",
       "                    16.25,  16.5 ,  16.75,  17.  ,  17.25,  17.5 ,  17.75,\n",
       "                    18.  ,  18.25,  18.5 ,  18.75,  19.  ,  19.25,  19.5 ,\n",
       "                    19.75,  20.  ,  20.25,  20.5 ,  20.75,  21.  ,  21.25,\n",
       "                    21.5 ,  21.75,  22.  ,  22.25,  22.5 ,  22.75,  23.  ,\n",
       "                    23.25,  23.5 ,  23.75,  24.  ,  24.25,  24.5 ,  24.75,\n",
       "                    25.  ,  25.25,  25.5 ,  25.75,  26.  ,  26.25,  26.5 ,\n",
       "                    26.75,  27.  ,  27.25,  27.5 ,  27.75,  28.  ,  28.25,\n",
       "                    28.5 ,  28.75,  29.  ,  29.25,  29.5 ,  29.75,  30.  ,\n",
       "                    30.25,  30.5 ,  30.75,  31.  ,  31.25,  31.5 ,  31.75,\n",
       "                    32.  ,  32.25,  32.5 ,  32.75,  33.  ,  33.25,  33.5 ,\n",
       "                    33.75,  34.  ,  34.25,  34.5 ,  34.75,  35.  ,  35.25,\n",
       "                    35.5 ,  35.75,  36.  ,  36.25,  36.5 ,  36.75,  37.  ,\n",
       "                    37.25,  37.5 ,  37.75,  38.  ,  38.25,  38.5 ,  38.75,\n",
       "                    39.  ,  39.25,  39.5 ,  39.75,  40.  ,  40.25,  40.5 ,\n",
       "                    40.75,  41.  ,  41.25,  41.5 ,  41.75,  42.  ,  42.25,\n",
       "                    42.5 ,  42.75,  43.  ,  43.25,  43.5 ,  43.75,  44.  ,\n",
       "                    44.25,  44.5 ,  44.75,  45.  ,  45.25,  45.5 ],\n",
       "             mask=False,\n",
       "       fill_value=1e+20)"
      ]
     },
     "execution_count": 6,
     "metadata": {},
     "output_type": "execute_result"
    }
   ],
   "source": [
    "nc.variables['latitude'][:]"
   ]
  }
 ],
 "metadata": {
  "kernelspec": {
   "display_name": ".venv",
   "language": "python",
   "name": "python3"
  },
  "language_info": {
   "codemirror_mode": {
    "name": "ipython",
    "version": 3
   },
   "file_extension": ".py",
   "mimetype": "text/x-python",
   "name": "python",
   "nbconvert_exporter": "python",
   "pygments_lexer": "ipython3",
   "version": "3.10.5"
  },
  "orig_nbformat": 4,
  "vscode": {
   "interpreter": {
    "hash": "0f157a749752437ddb720be10484a0c4635006bd7042b904d6d9e87d41ece340"
   }
  }
 },
 "nbformat": 4,
 "nbformat_minor": 2
}
